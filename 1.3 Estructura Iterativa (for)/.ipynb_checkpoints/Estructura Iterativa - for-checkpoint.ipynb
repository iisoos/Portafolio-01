{
 "cells": [
  {
   "cell_type": "markdown",
   "id": "b48793f0",
   "metadata": {},
   "source": [
    "#### <center> <h2>Estructura Iterativa - for</h2> </center>"
   ]
  },
  {
   "cell_type": "markdown",
   "id": "1440f9d6",
   "metadata": {},
   "source": [
    "![linea 1](https://user-images.githubusercontent.com/19308295/115926252-2b8a0c00-a448-11eb-9d9c-b43beaf0ff68.png)"
   ]
  },
  {
   "cell_type": "markdown",
   "id": "d4f82302",
   "metadata": {},
   "source": [
    "## <font color=#33A5FF>****1. Estructura Iterativa - Bucle \"for\"****<tfont>"
   ]
  },
  {
   "cell_type": "markdown",
   "id": "317b669b",
   "metadata": {},
   "source": [
    "El Bucle for se utiliza para recorrer los elementos de un **objeto iterable** (lista, tupla, string, diccionario, …) y **ejecutar un bloque de código**. En cada paso de la iteración se tiene en cuenta a un único elemento del objeto iterable, sobre el cuál se pueden aplicar una serie de operaciones."
   ]
  },
  {
   "cell_type": "code",
   "execution_count": 1,
   "id": "aa2288de",
   "metadata": {},
   "outputs": [
    {
     "ename": "SyntaxError",
     "evalue": "invalid syntax (978705421.py, line 1)",
     "output_type": "error",
     "traceback": [
      "\u001b[0;36m  Input \u001b[0;32mIn [1]\u001b[0;36m\u001b[0m\n\u001b[0;31m    for <var> in <iterable>:\u001b[0m\n\u001b[0m        ^\u001b[0m\n\u001b[0;31mSyntaxError\u001b[0m\u001b[0;31m:\u001b[0m invalid syntax\n"
     ]
    }
   ],
   "source": [
    "for <var> in <iterable>:\n",
    "    <código>\n",
    "    <código>\n",
    "    ...................."
   ]
  },
  {
   "cell_type": "markdown",
   "id": "4f5f91b4",
   "metadata": {},
   "source": [
    "var es la variable que toma el **valor del elemento** dentro del **iterador** en cada paso del bucle. Este finaliza su ejecución cuando se recorren todos los elementos."
   ]
  },
  {
   "cell_type": "markdown",
   "id": "5fec336d",
   "metadata": {},
   "source": [
    "Un **iterable** es un objeto que permite recorrer sus elementos uno a uno. En Python, los tipos principales list , tuple , dict , set o string entre otros, son iterables, por lo que podrán ser usados en el bucle for."
   ]
  },
  {
   "cell_type": "markdown",
   "id": "1214a696",
   "metadata": {},
   "source": [
    "## USAMOS ***FOR***"
   ]
  },
  {
   "cell_type": "code",
   "execution_count": 2,
   "id": "187abdbb",
   "metadata": {},
   "outputs": [
    {
     "name": "stdout",
     "output_type": "stream",
     "text": [
      "10\n",
      "30\n",
      "50\n",
      "70\n",
      "90\n",
      "110\n"
     ]
    }
   ],
   "source": [
    "# 'for' iterando una lista\n",
    "\n",
    "num = [10, 30, 50, 70, 90, 110]\n",
    "\n",
    "for n in num:\n",
    "    print(n)"
   ]
  },
  {
   "cell_type": "code",
   "execution_count": 3,
   "id": "bd46c93d",
   "metadata": {},
   "outputs": [
    {
     "name": "stdout",
     "output_type": "stream",
     "text": [
      "20\n",
      "40\n",
      "60\n",
      "80\n",
      "100\n",
      "120\n"
     ]
    }
   ],
   "source": [
    "# 'for' iterando una lista\n",
    "\n",
    "num = [20, 40, 60, 80, 100, 120]\n",
    "\n",
    "for n in num:\n",
    "    print(n)"
   ]
  },
  {
   "cell_type": "code",
   "execution_count": 4,
   "id": "5cfc48dc",
   "metadata": {},
   "outputs": [
    {
     "name": "stdout",
     "output_type": "stream",
     "text": [
      "I\n",
      "S\n",
      "M\n",
      "A\n",
      "E\n",
      "L\n"
     ]
    }
   ],
   "source": [
    "# 'for' iterando un string\n",
    "\n",
    "nom = 'ISMAEL'\n",
    "\n",
    "for letra in nom:   \n",
    "    print (letra)\n",
    "    "
   ]
  },
  {
   "cell_type": "code",
   "execution_count": 5,
   "id": "f2cd244a",
   "metadata": {},
   "outputs": [
    {
     "name": "stdout",
     "output_type": "stream",
     "text": [
      "Hola Juan, la longitud de tu nombre es de: 4 caracteres.\n",
      "Hola Cristian, la longitud de tu nombre es de: 8 caracteres.\n",
      "Hola Ivanovich, la longitud de tu nombre es de: 9 caracteres.\n",
      "Hola Ismael, la longitud de tu nombre es de: 6 caracteres.\n",
      "Hola Marco, la longitud de tu nombre es de: 5 caracteres.\n"
     ]
    }
   ],
   "source": [
    "# 'for' hallando la longitud de los elementos de una lista\n",
    "\n",
    "for nombre in ['Juan','Cristian','Ivanovich','Ismael','Marco']:\n",
    "    print ('Hola {0}, la longitud de tu nombre es de: {1} caracteres.'.format(nombre,len(nombre)))"
   ]
  },
  {
   "cell_type": "code",
   "execution_count": 6,
   "id": "ff9e937d",
   "metadata": {},
   "outputs": [
    {
     "name": "stdout",
     "output_type": "stream",
     "text": [
      "Hola Gravity falls, la longitud del nombre de las series es de: 13 caracteres.\n",
      "Hola Mi vicio, la longitud del nombre de las series es de: 8 caracteres.\n",
      "Hola Juan el pescador, la longitud del nombre de las series es de: 16 caracteres.\n",
      "Hola Dueles, la longitud del nombre de las series es de: 6 caracteres.\n",
      "Hola El precio del mañana, la longitud del nombre de las series es de: 20 caracteres.\n",
      "Hola eFex x, la longitud del nombre de las series es de: 6 caracteres.\n"
     ]
    }
   ],
   "source": [
    "# 'for' hallando la longitud de los elementos de una lista\n",
    "\n",
    "for nombre in ['Gravity falls','Mi vicio','Juan el pescador',\n",
    "               'Dueles','El precio del mañana','eFex x']:\n",
    "    print ('Hola {0}, la longitud del nombre de las series es de: {1} caracteres.'.format(nombre,len(nombre)))"
   ]
  },
  {
   "cell_type": "markdown",
   "id": "9b276b42",
   "metadata": {},
   "source": [
    "## Hacer un programa que itere a lo largo de una lista que contenga colores y añada (appends) todos los colores que contengan la letra r a una nueva lista."
   ]
  },
  {
   "cell_type": "code",
   "execution_count": 7,
   "id": "03efbb0d",
   "metadata": {},
   "outputs": [
    {
     "name": "stdout",
     "output_type": "stream",
     "text": [
      "['amarillo', 'rojo', 'verde', 'púrpura', 'negro']\n"
     ]
    }
   ],
   "source": [
    "color = ['amarillo','rojo','verde','azul','púrpura','blanco','negro','limón']\n",
    "color_con_r = []\n",
    "\n",
    "for m in color:\n",
    "    if \"r\" in m:\n",
    "        color_con_r.append(m)\n",
    "        \n",
    "print(color_con_r)"
   ]
  },
  {
   "cell_type": "code",
   "execution_count": 8,
   "id": "b8914fc8",
   "metadata": {},
   "outputs": [
    {
     "name": "stdout",
     "output_type": "stream",
     "text": [
      "['amarillo', 'azul', 'púrpura', 'blanco']\n"
     ]
    }
   ],
   "source": [
    "color = ['amarillo','rojo','verde','azul','púrpura','blanco','negro','limón']\n",
    "color_con_r = []\n",
    "\n",
    "for m in color:\n",
    "    if \"a\" in m:\n",
    "        color_con_r.append(m)\n",
    "        \n",
    "print(color_con_r)"
   ]
  },
  {
   "cell_type": "code",
   "execution_count": 9,
   "id": "c42c8d35",
   "metadata": {},
   "outputs": [
    {
     "name": "stdout",
     "output_type": "stream",
     "text": [
      "['azul']\n"
     ]
    }
   ],
   "source": [
    "color = ['amarillo','rojo','verde','azul','púrpura','blanco','negro','limón']\n",
    "color_con_r = []\n",
    "\n",
    "for m in color:\n",
    "    if \"z\" in m:\n",
    "        color_con_r.append(m)\n",
    "        \n",
    "print(color_con_r)"
   ]
  },
  {
   "cell_type": "code",
   "execution_count": 10,
   "id": "85a88840",
   "metadata": {},
   "outputs": [
    {
     "name": "stdout",
     "output_type": "stream",
     "text": [
      "[]\n"
     ]
    }
   ],
   "source": [
    "color = ['amarillo','rojo','verde','azul','púrpura','blanco','negro','limón']\n",
    "color_con_r = []\n",
    "\n",
    "for m in color:\n",
    "    if \"x\" in m:\n",
    "        color_con_r.append(m)\n",
    "        \n",
    "print(color_con_r)"
   ]
  },
  {
   "cell_type": "markdown",
   "id": "901477fd",
   "metadata": {},
   "source": [
    "## <font color=#33A5FF>****2. Función \"range\"****<tfont>"
   ]
  },
  {
   "cell_type": "markdown",
   "id": "4e6128c2",
   "metadata": {},
   "source": [
    "### Función range()"
   ]
  },
  {
   "cell_type": "markdown",
   "id": "f6563926",
   "metadata": {},
   "source": [
    "La funcion range nos permite crear una secuencia de numeros, tiene por argumentos 3 parametros (inicio, fin, pasos)"
   ]
  },
  {
   "cell_type": "markdown",
   "id": "aa21f86c",
   "metadata": {},
   "source": [
    "  range se puede utilizar con ***uno***, ***dos*** e incluso ***tres*** parámetros:"
   ]
  },
  {
   "cell_type": "markdown",
   "id": "918fdd2e",
   "metadata": {},
   "source": [
    "-range(max) : Un iterable de números enteros consecutivos que empieza en 0 y acaba en max - 1"
   ]
  },
  {
   "cell_type": "markdown",
   "id": "742f4a2c",
   "metadata": {},
   "source": [
    "-range(min, max) : Un iterable de números enteros consecutivos que empieza en min y acaba en max - 1"
   ]
  },
  {
   "cell_type": "markdown",
   "id": "83ceab83",
   "metadata": {},
   "source": [
    "-range(min, max, step) : Un iterable de números enteros consecutivos que empieza en min acaba en max - 1 y los valores se van incrementando de step en step."
   ]
  },
  {
   "cell_type": "code",
   "execution_count": 11,
   "id": "80d4d276",
   "metadata": {},
   "outputs": [
    {
     "name": "stdout",
     "output_type": "stream",
     "text": [
      "0\n",
      "1\n",
      "2\n",
      "3\n",
      "4\n",
      "5\n",
      "6\n",
      "7\n",
      "8\n",
      "9\n",
      "10\n",
      "11\n"
     ]
    }
   ],
   "source": [
    "# for' utilizando la función 'range' con 1 parametro\n",
    "\n",
    "for i in range (12):\n",
    "    print (i)"
   ]
  },
  {
   "cell_type": "markdown",
   "id": "3d3754bf",
   "metadata": {},
   "source": [
    "## Hacer un programa que imprima del numero 1 al 10"
   ]
  },
  {
   "cell_type": "code",
   "execution_count": 12,
   "id": "f85cfd98",
   "metadata": {},
   "outputs": [
    {
     "name": "stdout",
     "output_type": "stream",
     "text": [
      "1 2 3 4 5 6 7 8 9 10 "
     ]
    }
   ],
   "source": [
    "# Podemos usar un argumento\n",
    "# añadiremos el parametro end=\"\" para que por defecto no genere una nueva linea\n",
    "\n",
    "for i in range(10):\n",
    "    print (i+1, \"\", end = \"\")"
   ]
  },
  {
   "cell_type": "code",
   "execution_count": 13,
   "id": "83f2a100",
   "metadata": {},
   "outputs": [
    {
     "name": "stdout",
     "output_type": "stream",
     "text": [
      "1 2 3 4 5 6 7 8 9 10 "
     ]
    }
   ],
   "source": [
    "for i in range(1,11):\n",
    "    print (i, \"\", end = \"\")"
   ]
  },
  {
   "cell_type": "markdown",
   "id": "1f65776e",
   "metadata": {},
   "source": [
    "## Hacer un programa que imprima del numero 1 al 25"
   ]
  },
  {
   "cell_type": "code",
   "execution_count": 14,
   "id": "c2b49140",
   "metadata": {},
   "outputs": [
    {
     "name": "stdout",
     "output_type": "stream",
     "text": [
      "1 2 3 4 5 6 7 8 9 10 11 12 13 14 15 16 17 18 19 20 21 22 23 24 25 "
     ]
    }
   ],
   "source": [
    "# Podemos usar un argumento\n",
    "# añadiremos el parametro end=\"\" para que por defecto no genere una nueva linea\n",
    "\n",
    "for i in range(25):\n",
    "    print (i+1, \"\", end = \"\")"
   ]
  },
  {
   "cell_type": "code",
   "execution_count": 15,
   "id": "4749c1bf",
   "metadata": {},
   "outputs": [
    {
     "name": "stdout",
     "output_type": "stream",
     "text": [
      "1 2 3 4 5 6 7 8 9 10 11 12 13 14 15 16 17 18 19 20 21 22 23 24 25 "
     ]
    }
   ],
   "source": [
    "# Podemos usar un argumento\n",
    "# añadiremos el parametro end=\"\" para que por defecto no genere una nueva linea\n",
    "\n",
    "for i in range(1,26):\n",
    "    print (i, \"\", end = \"\")"
   ]
  },
  {
   "cell_type": "markdown",
   "id": "8751a84b",
   "metadata": {},
   "source": [
    "## Ejemplos de función range"
   ]
  },
  {
   "cell_type": "code",
   "execution_count": 16,
   "id": "7de92a2c",
   "metadata": {},
   "outputs": [
    {
     "name": "stdout",
     "output_type": "stream",
     "text": [
      "2 4 6 8 10 "
     ]
    }
   ],
   "source": [
    "# Podemos usar 3 para definir un inicio, un final y una longitud de paso (en este caso 2)\n",
    "\n",
    "for i in range(2,12,2):\n",
    "    print (i, \"\", end = \"\")"
   ]
  },
  {
   "cell_type": "code",
   "execution_count": 17,
   "id": "0f1bc57b",
   "metadata": {},
   "outputs": [
    {
     "name": "stdout",
     "output_type": "stream",
     "text": [
      "5 10 15 20 25 30 35 40 45 "
     ]
    }
   ],
   "source": [
    "for i in range(5,50,5):\n",
    "    print (i, \"\", end = \"\")"
   ]
  },
  {
   "cell_type": "code",
   "execution_count": 18,
   "id": "b0f8c45a",
   "metadata": {},
   "outputs": [
    {
     "name": "stdout",
     "output_type": "stream",
     "text": [
      "20 18 16 14 12 10 8 6 4 2 "
     ]
    }
   ],
   "source": [
    "# inicio=20 , un final=0 y una longitud de paso -2\n",
    "\n",
    "for i in range(20,0,-2):\n",
    "    print (i, \"\", end = \"\")"
   ]
  },
  {
   "cell_type": "code",
   "execution_count": 19,
   "id": "63f23251",
   "metadata": {},
   "outputs": [
    {
     "name": "stdout",
     "output_type": "stream",
     "text": [
      "50 45 40 35 30 25 20 15 10 5 "
     ]
    }
   ],
   "source": [
    "for i in range(50,0,-5):\n",
    "    print (i, \"\", end = \"\")"
   ]
  },
  {
   "cell_type": "code",
   "execution_count": 20,
   "id": "6bcdce76",
   "metadata": {},
   "outputs": [],
   "source": [
    "# inicio= 40, un final= 5 y una longitud de paso -5\n",
    "\n",
    "for i in range (40,-5,2):\n",
    "    print (i, \"\", end = \"\")"
   ]
  },
  {
   "cell_type": "markdown",
   "id": "d88201b6",
   "metadata": {},
   "source": [
    "El print no se ejecutó porque el valor de la orden de secuencia es positivo y el valor final respecto al valor inicial es descendente."
   ]
  },
  {
   "cell_type": "code",
   "execution_count": 21,
   "id": "d1dda5b2",
   "metadata": {},
   "outputs": [
    {
     "name": "stdout",
     "output_type": "stream",
     "text": [
      "40 35 30 25 20 15 10 5 0 "
     ]
    }
   ],
   "source": [
    "for i in range (40,-5,-5):\n",
    "    print (i, \"\", end = \"\")"
   ]
  },
  {
   "cell_type": "markdown",
   "id": "1252858f",
   "metadata": {},
   "source": [
    "El print sí se ejecutó porque el valor de la orden de secuencia es negativo y el valor final respecto al valor inicial es descendente."
   ]
  },
  {
   "cell_type": "code",
   "execution_count": 22,
   "id": "7e040d3c",
   "metadata": {},
   "outputs": [],
   "source": [
    "# inicio=50, un final= -1 y una longitud de paso 5\n",
    "\n",
    "for i in range (50,-1,5):\n",
    "    print (i, \"\", end = \"\")"
   ]
  },
  {
   "cell_type": "markdown",
   "id": "f4755ef5",
   "metadata": {},
   "source": [
    "NO SE EJECUTO EL PRINT"
   ]
  },
  {
   "cell_type": "markdown",
   "id": "ce731315",
   "metadata": {},
   "source": [
    "## <font color=#33A5FF>****3. Función \"break\" y \"continue\"****<tfont>"
   ]
  },
  {
   "cell_type": "markdown",
   "id": "5a217f91",
   "metadata": {},
   "source": [
    "### Modificando la iteración del bucle for: break y continue"
   ]
  },
  {
   "cell_type": "markdown",
   "id": "526c30b9",
   "metadata": {},
   "source": [
    "**- break** se utiliza para finalizar y salir el bucle, por ejemplo, si se cumple alguna condición."
   ]
  },
  {
   "cell_type": "markdown",
   "id": "08151784",
   "metadata": {},
   "source": [
    "**- continue** salta al siguiente paso de la iteración, ignorando todas las sentencias que le siguen y que forman parte del bucle."
   ]
  },
  {
   "cell_type": "markdown",
   "id": "0207e003",
   "metadata": {},
   "source": [
    "### Uso de break"
   ]
  },
  {
   "cell_type": "markdown",
   "id": "364dd8c1",
   "metadata": {},
   "source": [
    "#### Hacer un programa que de una lista de numeros imprima la posición del numero 9 :"
   ]
  },
  {
   "cell_type": "code",
   "execution_count": 23,
   "id": "51e5e68d",
   "metadata": {},
   "outputs": [
    {
     "name": "stdout",
     "output_type": "stream",
     "text": [
      "5\n"
     ]
    }
   ],
   "source": [
    "#lista de numero\n",
    "\n",
    "lista = [2,4,5,7,8,9,3,4]\n",
    "#utilizamos un contador iniciamos en 0 o en 1??\n",
    "cont = -1\n",
    "\n",
    "for m in lista:\n",
    "    cont = cont + 1\n",
    "    if m == 9 :\n",
    "        break\n",
    "        \n",
    "print (cont)"
   ]
  },
  {
   "cell_type": "markdown",
   "id": "397dd33e",
   "metadata": {},
   "source": [
    "*que pasa no se encuentra el numero 9 ???*"
   ]
  },
  {
   "cell_type": "code",
   "execution_count": 24,
   "id": "60b0863e",
   "metadata": {},
   "outputs": [
    {
     "name": "stdout",
     "output_type": "stream",
     "text": [
      "1\n"
     ]
    }
   ],
   "source": [
    "#lista de numero\n",
    "\n",
    "lista = [2,4,5,7,8,9,3,4]\n",
    "#utilizamos un contador iniciamos en 0 o en 1??\n",
    "cont = -2\n",
    "\n",
    "for m in lista:\n",
    "    cont = cont + 1\n",
    "    if m == 5 :\n",
    "        break\n",
    "        \n",
    "print (cont)"
   ]
  },
  {
   "cell_type": "markdown",
   "id": "3a8c2a8c",
   "metadata": {},
   "source": [
    "### Asignación abreviada (contador abreviado):"
   ]
  },
  {
   "cell_type": "code",
   "execution_count": 26,
   "id": "d04992da",
   "metadata": {},
   "outputs": [
    {
     "name": "stdout",
     "output_type": "stream",
     "text": [
      "2\n"
     ]
    }
   ],
   "source": [
    "#contador = contador + 1\n",
    "\n",
    "contador = 1\n",
    "contador += 1\n",
    "\n",
    "print(contador)"
   ]
  },
  {
   "cell_type": "code",
   "execution_count": 28,
   "id": "405e2d2a",
   "metadata": {},
   "outputs": [
    {
     "name": "stdout",
     "output_type": "stream",
     "text": [
      "5\n"
     ]
    }
   ],
   "source": [
    "#contador = contador *5\n",
    "contador = 1\n",
    "contador *= 5\n",
    "\n",
    "print(contador)"
   ]
  },
  {
   "cell_type": "code",
   "execution_count": 29,
   "id": "521d5ef1",
   "metadata": {},
   "outputs": [
    {
     "name": "stdout",
     "output_type": "stream",
     "text": [
      "0.5\n"
     ]
    }
   ],
   "source": [
    "#contador = contador /2\n",
    "contador = 1\n",
    "contador /= 2\n",
    "\n",
    "print(contador)"
   ]
  },
  {
   "cell_type": "code",
   "execution_count": 30,
   "id": "53ecf569",
   "metadata": {},
   "outputs": [
    {
     "name": "stdout",
     "output_type": "stream",
     "text": [
      "0\n"
     ]
    }
   ],
   "source": [
    "#contador = contador //3\n",
    "contador = 1\n",
    "contador //= 3\n",
    "\n",
    "print(contador)"
   ]
  },
  {
   "cell_type": "markdown",
   "id": "ce19c492",
   "metadata": {},
   "source": [
    " ¿Qué pasa cuando no se encuentra el número 9 ?"
   ]
  },
  {
   "cell_type": "code",
   "execution_count": 31,
   "id": "1abd9848",
   "metadata": {},
   "outputs": [
    {
     "name": "stdout",
     "output_type": "stream",
     "text": [
      "No se encontro el número 9\n"
     ]
    }
   ],
   "source": [
    "#lista de numeros sin el numero '9'\n",
    "\n",
    "lista = [2, 4, 5, 7, 8, 19, 3, 4]\n",
    "\n",
    "#Utilizamos un contador reducido\n",
    "\n",
    "cont = -1\n",
    "\n",
    "for m in lista:\n",
    "    cont += 1\n",
    "    if m == 9:\n",
    "        break\n",
    "        \n",
    "else:\n",
    "## Usamos 'for' conjuntamente con'else'\n",
    "\n",
    "    cont = -1\n",
    "    print ('No se encontro el número 9')\n",
    "    \n",
    "## Usamos 'for' conjuntamente con 'else'\n",
    "\n",
    "if cont >= 0:\n",
    "    print(cont)"
   ]
  },
  {
   "cell_type": "markdown",
   "id": "5f77bc27",
   "metadata": {},
   "source": [
    "## Uso de continue :"
   ]
  },
  {
   "cell_type": "markdown",
   "id": "da71cbee",
   "metadata": {},
   "source": [
    "## Hacer un programa que de una lista de numeros imprima solo los numeros pares:"
   ]
  },
  {
   "cell_type": "code",
   "execution_count": 32,
   "id": "0d4d74d3",
   "metadata": {},
   "outputs": [
    {
     "name": "stdout",
     "output_type": "stream",
     "text": [
      "12\n",
      "14\n",
      "108\n",
      "90\n",
      "200\n"
     ]
    }
   ],
   "source": [
    "#Lista de numeros\n",
    "num = [12, 14, 15, 27, 108, 90, 33, 49, 200]\n",
    "\n",
    "for p in num:\n",
    "    if p % 2 != 0:\n",
    "        continue\n",
    "    print (p)"
   ]
  },
  {
   "cell_type": "markdown",
   "id": "57b5b0db",
   "metadata": {},
   "source": [
    "## Hacer un programa que de una lista de numeros imprima solo los numeros impares:"
   ]
  },
  {
   "cell_type": "code",
   "execution_count": 33,
   "id": "5a1a416e",
   "metadata": {},
   "outputs": [
    {
     "name": "stdout",
     "output_type": "stream",
     "text": [
      "12\n",
      "15\n",
      "27\n",
      "108\n",
      "90\n",
      "33\n"
     ]
    }
   ],
   "source": [
    "#Lista de numeros\n",
    "num = [12, 14, 15, 27, 108, 90, 33, 49, 200]\n",
    "\n",
    "for p in num:\n",
    "    if p % 3 != 0:\n",
    "        continue\n",
    "    print (p)"
   ]
  },
  {
   "cell_type": "markdown",
   "id": "0d255353",
   "metadata": {},
   "source": [
    "## Hacer un programa que de una lista de numeros imprima números que sean divisibles entre 5:"
   ]
  },
  {
   "cell_type": "code",
   "execution_count": 34,
   "id": "cb0354b3",
   "metadata": {},
   "outputs": [
    {
     "name": "stdout",
     "output_type": "stream",
     "text": [
      "15\n",
      "90\n",
      "200\n"
     ]
    }
   ],
   "source": [
    "#Lista de numeros\n",
    "num = [12, 14, 15, 27, 108, 90, 33, 49, 200]\n",
    "\n",
    "for p in num:\n",
    "    if p % 5 != 0:\n",
    "        continue\n",
    "    print (p)"
   ]
  },
  {
   "cell_type": "markdown",
   "id": "01b30c85",
   "metadata": {},
   "source": [
    "   <hr color=\"blue\" size=20>"
   ]
  },
  {
   "cell_type": "markdown",
   "id": "25dd603b",
   "metadata": {},
   "source": [
    "# <center> <font color=#33A5FF>****EJEMPLOS****<tfont> </center>"
   ]
  },
  {
   "cell_type": "markdown",
   "id": "d19d702f",
   "metadata": {},
   "source": [
    "   <hr color=\"blue\" size=20>"
   ]
  },
  {
   "cell_type": "markdown",
   "id": "1837f989",
   "metadata": {},
   "source": [
    "## Estructura iterativa for"
   ]
  },
  {
   "cell_type": "markdown",
   "id": "f399dd47",
   "metadata": {},
   "source": [
    "### Hacer un programa mostrar por pantalla los números pares del 0 al 10 :"
   ]
  },
  {
   "cell_type": "code",
   "execution_count": 35,
   "id": "33023dda",
   "metadata": {},
   "outputs": [
    {
     "name": "stdout",
     "output_type": "stream",
     "text": [
      "0\n",
      "2\n",
      "4\n",
      "6\n",
      "8\n",
      "10\n"
     ]
    }
   ],
   "source": [
    "for num in range(0, 11, 2):\n",
    "    print(num)"
   ]
  },
  {
   "cell_type": "markdown",
   "id": "e9d77a4d",
   "metadata": {},
   "source": [
    "### Hacer un programa que permita ingresar nombres a una lista, utilizando funciones"
   ]
  },
  {
   "cell_type": "code",
   "execution_count": 36,
   "id": "184c6705",
   "metadata": {},
   "outputs": [
    {
     "name": "stdout",
     "output_type": "stream",
     "text": [
      "De cuantos elementos crearemos la lista de nombres : 3\n",
      "Ingresar Nombre de la posición 0 : Ismael\n",
      "Ingresar Nombre de la posición 1 : Cristian\n",
      "Ingresar Nombre de la posición 2 : Ivanovich\n",
      "\n",
      " la lista completa de Nombres es :\n",
      " ['Ismael', 'Cristian', 'Ivanovich']\n"
     ]
    }
   ],
   "source": [
    "#Inicializamos la lista vacia\n",
    "nombres = []\n",
    "\n",
    "#función ingreso nombre\n",
    "def ingreso(ele):\n",
    "    for i in range(0,ele):\n",
    "        m = input(\"Ingresar Nombre de la posición {0} : \".format(i))\n",
    "        nombres.append(m)\n",
    "        \n",
    "#Preguntamos de cuantos elementos conforman la lista\n",
    "l = int(input(\"De cuantos elementos crearemos la lista de nombres : \"))\n",
    "ingreso(l)\n",
    "print(\"\\n la lista completa de Nombres es :\\n\",nombres)"
   ]
  },
  {
   "cell_type": "code",
   "execution_count": 37,
   "id": "cfe4927b",
   "metadata": {},
   "outputs": [
    {
     "name": "stdout",
     "output_type": "stream",
     "text": [
      "De cuantos elementos crearemos la lista de nombres de las series : 2\n",
      "Ingresar Nombre de la posición 0 : Gravity Falls\n",
      "Ingresar Nombre de la posición 1 : La casa de Papel\n",
      "\n",
      " la lista completa de Nombres de las series es :\n",
      " ['Gravity Falls', 'La casa de Papel']\n"
     ]
    }
   ],
   "source": [
    "#Inicializamos la lista vacia\n",
    "nombres = []\n",
    "\n",
    "#función ingreso nombre\n",
    "def ingreso(ele):\n",
    "    for i in range(0,ele):\n",
    "        m = input(\"Ingresar Nombre de la posición {0} : \".format(i))\n",
    "        nombres.append(m)\n",
    "        \n",
    "#Preguntamos de cuantos elementos conforman la lista\n",
    "l = int(input(\"De cuantos elementos crearemos la lista de nombres de las series : \"))\n",
    "ingreso(l)\n",
    "print(\"\\n la lista completa de Nombres de las series es :\\n\",nombres)"
   ]
  },
  {
   "cell_type": "markdown",
   "id": "c88e1e54",
   "metadata": {},
   "source": [
    "## Método 2:"
   ]
  },
  {
   "cell_type": "markdown",
   "id": "a36806c7",
   "metadata": {},
   "source": [
    "### Hacer un programa que de una lista de numeros imprima la posición del numero 9 , utilizando función enumerate"
   ]
  },
  {
   "cell_type": "code",
   "execution_count": 38,
   "id": "c00be724",
   "metadata": {},
   "outputs": [
    {
     "name": "stdout",
     "output_type": "stream",
     "text": [
      "No se encontró el número 9\n"
     ]
    }
   ],
   "source": [
    "#lista de numeros\n",
    "\n",
    "lista = [2, 4, 5, 7, 8, 19, 3, 4]\n",
    "\n",
    "#utilizo la funcion `enumerate` que devuelve una tupla﴾es igual a lista pero es inmutable﴿\n",
    "#tupla de 2 elementos de una lista ﴾posición, contenido﴿\n",
    "\n",
    "for i,m in enumerate(lista):\n",
    "    if m == 9:\n",
    "        break\n",
    "\n",
    "else:\n",
    "## Usamos'for' conjuntamente con'else'\n",
    "    #ponenmos negativa la posicion\n",
    "    \n",
    "    i = -1\n",
    "    print('No se encontró el número 9')\n",
    "\n",
    "if i >= 0:\n",
    "    print(i)"
   ]
  },
  {
   "cell_type": "markdown",
   "id": "e480ee65",
   "metadata": {},
   "source": [
    "### Hacer un programa que lea la lista de obras de Mario Vargas Llosa e indique el orden de los libros"
   ]
  },
  {
   "cell_type": "code",
   "execution_count": 39,
   "id": "6f719806",
   "metadata": {},
   "outputs": [
    {
     "name": "stdout",
     "output_type": "stream",
     "text": [
      "\n",
      "El primer libro de Mario Vargas Llosa es: La ciudad y los perros\n",
      "\n",
      "El segundo libro de Mario Vargas Llosa es: La casa verde\n",
      "\n",
      "El tercer libro de Mario Vargas Llosa es: Pantaleón y las visitadoras\n"
     ]
    }
   ],
   "source": [
    "#Lista de Libros de Mario Vargas Llosa\n",
    "\n",
    "obras_mvll=[\"La ciudad y los perros\",\"La casa verde\",\"Pantaleón y las visitadoras\"]\n",
    "\n",
    "#Lista Orden de los libros\n",
    "\n",
    "orden=[\"primer\",\"segundo\",\"tercer\"]\n",
    "\n",
    "#Utlizamos 'enumerate'\n",
    "\n",
    "for i, libro in enumerate(obras_mvll):\n",
    "    print(\"\\nEl \" + orden[i] +\" libro de Mario Vargas Llosa es: \" + libro)"
   ]
  },
  {
   "cell_type": "markdown",
   "id": "c9308b1a",
   "metadata": {},
   "source": [
    "### Hacer un programa que lea la lista de los planetas del sistema solar e indique el orden de los mismos."
   ]
  },
  {
   "cell_type": "code",
   "execution_count": 40,
   "id": "680d1eb3",
   "metadata": {},
   "outputs": [
    {
     "name": "stdout",
     "output_type": "stream",
     "text": [
      "\n",
      "El primer planeta del sistema solar es: Mercurio\n",
      "\n",
      "El segundo planeta del sistema solar es: Venus\n",
      "\n",
      "El tercer planeta del sistema solar es: Tierra\n",
      "\n",
      "El cuarto planeta del sistema solar es: Marte\n",
      "\n",
      "El quinto planeta del sistema solar es: Jupiter\n",
      "\n",
      "El sexto planeta del sistema solar es: Saturno\n",
      "\n",
      "El septimo planeta del sistema solar es: Urano\n",
      "\n",
      "El octavo planeta del sistema solar es: Neptuno\n"
     ]
    }
   ],
   "source": [
    "#Lista de planetas del sistema solar\n",
    "\n",
    "planetas_ss = [\"Mercurio\", \"Venus\", \"Tierra\", \"Marte\", \"Jupiter\", \"Saturno\", \"Urano\", \"Neptuno\"]\n",
    "\n",
    "#Lista Orden de los planetas\n",
    "\n",
    "orden = [\"primer\", \"segundo\", \"tercer\", \"cuarto\", \"quinto\", \"sexto\", \"septimo\", \"octavo\"]\n",
    "\n",
    "#Utlizamos 'enumerate'\n",
    "\n",
    "for i, planeta in enumerate(planetas_ss):\n",
    "    print(\"\\nEl \" + orden[i] +\" planeta del sistema solar es: \" + planeta)"
   ]
  },
  {
   "cell_type": "markdown",
   "id": "e91758ae",
   "metadata": {},
   "source": [
    "### Hacer un programa que realice invitaciones de una lista de nombres"
   ]
  },
  {
   "cell_type": "code",
   "execution_count": 41,
   "id": "8750f453",
   "metadata": {},
   "outputs": [
    {
     "name": "stdout",
     "output_type": "stream",
     "text": [
      "Hola Joel.¡Por favor, ven a mi fiesta el sábado!\n",
      "Hola Nati.¡Por favor, ven a mi fiesta el sábado!\n",
      "Hola Jehu.¡Por favor, ven a mi fiesta el sábado!\n",
      "Hola Angeles.¡Por favor, ven a mi fiesta el sábado!\n",
      "Hola Maryori.¡Por favor, ven a mi fiesta el sábado!\n",
      "Hola Lucila.¡Por favor, ven a mi fiesta el sábado!\n",
      "Hola Mirella.¡Por favor, ven a mi fiesta el sábado!\n",
      "Hola Cesar.¡Por favor, ven a mi fiesta el sábado!\n"
     ]
    }
   ],
   "source": [
    "for f in [\"Joel\", \"Nati\", \"Jehu\", \"Angeles\", \"Maryori\", \"Lucila\", \"Mirella\", \"Cesar\"]:\n",
    "    invitation = \"Hola \" + f + \".¡Por favor, ven a mi fiesta el sábado!\"\n",
    "    print(invitation)"
   ]
  },
  {
   "cell_type": "code",
   "execution_count": 43,
   "id": "b9b13e65",
   "metadata": {},
   "outputs": [
    {
     "name": "stdout",
     "output_type": "stream",
     "text": [
      "Hola Oscar.¡Por favor, ven a mi fiesta el sábado!\n",
      "Hola Ivanovich.¡Por favor, ven a mi fiesta el sábado!\n",
      "Hola Norellys.¡Por favor, ven a mi fiesta el sábado!\n",
      "Hola Nicotlh.¡Por favor, ven a mi fiesta el sábado!\n"
     ]
    }
   ],
   "source": [
    "for f in [\"Oscar\", \"Ivanovich\", \"Norellys\", \"Nicotlh\"]:\n",
    "    invitation = \"Hola \" + f + \".¡Por favor, ven a mi fiesta el sábado!\"\n",
    "    print(invitation)"
   ]
  },
  {
   "cell_type": "markdown",
   "id": "b8b0d393",
   "metadata": {},
   "source": [
    "### Hacer un programa que no realice invitaciones de una lista de nombres"
   ]
  },
  {
   "cell_type": "code",
   "execution_count": 44,
   "id": "20a242be",
   "metadata": {},
   "outputs": [
    {
     "name": "stdout",
     "output_type": "stream",
     "text": [
      "Hola Juan. Tú no tienes invitación, para la próxima será\n",
      "Hola Adrian. Tú no tienes invitación, para la próxima será\n",
      "Hola Elias. Tú no tienes invitación, para la próxima será\n",
      "Hola Ximena. Tú no tienes invitación, para la próxima será\n",
      "Hola Susana. Tú no tienes invitación, para la próxima será\n"
     ]
    }
   ],
   "source": [
    "for f in [\"Juan\", \"Adrian\", \"Elias\", \"Ximena\", \"Susana\"]:\n",
    "    sin_invitation = \"Hola \" + f + \". Tú no tienes invitación, para la próxima será\"\n",
    "    print(sin_invitation)"
   ]
  },
  {
   "cell_type": "markdown",
   "id": "a08c0f86",
   "metadata": {},
   "source": [
    "### Hacer un programa que sume los elementos de una lista, utilizar funciones y for"
   ]
  },
  {
   "cell_type": "code",
   "execution_count": 45,
   "id": "09f49673",
   "metadata": {},
   "outputs": [
    {
     "name": "stdout",
     "output_type": "stream",
     "text": [
      "10\n",
      "5.5\n",
      "2\n",
      "10\n",
      "55\n",
      "0\n"
     ]
    }
   ],
   "source": [
    "#solicita usar foy y funciones, NO SE PUEDE USAR funcion 'sum'\n",
    "\n",
    "def mysum(xs):\n",
    "    \"\"\" Suma todos los números de la lista xs, y devuelve el total. \"\"\"\n",
    "    running_total = 0\n",
    "    for x in xs:\n",
    "        running_total = running_total + x\n",
    "    return running_total\n",
    "# Add tests like these to your test suite\n",
    "\n",
    "print(mysum([1, 2, 3, 4]))                  # ==>> 10\n",
    "print(mysum([1.25, 2.5, 1.75]))             # ==>> 5.5\n",
    "print(mysum([1, -2, 3]))                    # ==>> 2\n",
    "print(mysum([1, 2, 3, 4]))                  # ==>> 10\n",
    "print(mysum(range(11)))                     # ==>> 55\n",
    "print(mysum([]))    "
   ]
  },
  {
   "cell_type": "markdown",
   "id": "f3025e12",
   "metadata": {},
   "source": [
    "### Hacer un programa que sume los elementos de una lista, usamos función sum"
   ]
  },
  {
   "cell_type": "code",
   "execution_count": 46,
   "id": "56118b79",
   "metadata": {},
   "outputs": [
    {
     "data": {
      "text/plain": [
       "10"
      ]
     },
     "execution_count": 46,
     "metadata": {},
     "output_type": "execute_result"
    }
   ],
   "source": [
    "m = [1, 2, 3, 4]\n",
    "sum(m)"
   ]
  },
  {
   "cell_type": "code",
   "execution_count": 47,
   "id": "7f5935e3",
   "metadata": {},
   "outputs": [
    {
     "data": {
      "text/plain": [
       "183383"
      ]
     },
     "execution_count": 47,
     "metadata": {},
     "output_type": "execute_result"
    }
   ],
   "source": [
    "m = [23742, 25514, 37342, 96785]\n",
    "sum(m)"
   ]
  },
  {
   "cell_type": "markdown",
   "id": "c12ea7ec",
   "metadata": {},
   "source": [
    "### Hacer un programa que imprima los multiplos hasta el numero 10 de cualquier numero"
   ]
  },
  {
   "cell_type": "code",
   "execution_count": 48,
   "id": "16017142",
   "metadata": {},
   "outputs": [
    {
     "name": "stdout",
     "output_type": "stream",
     "text": [
      "Ingrese un numero: 12\n",
      "\n",
      "Los multiplos de  12 son: \n",
      "12   24   36   48   60   72   84   96   108   120   \n"
     ]
    }
   ],
   "source": [
    "# Creamos la función multiplos\n",
    "\n",
    "def multiplos(n):\n",
    "    for i in range(1, 11):\n",
    "        print(n * i, end=\"   \")\n",
    "    print()\n",
    "    \n",
    "# Llamamos a la función con el numero de multiplo deseado\n",
    "\n",
    "m = int(input(\"Ingrese un numero: \"))\n",
    "print(\"\\nLos multiplos de \", m, \"son: \")\n",
    "multiplos(m)"
   ]
  },
  {
   "cell_type": "code",
   "execution_count": 49,
   "id": "27b09aff",
   "metadata": {},
   "outputs": [
    {
     "name": "stdout",
     "output_type": "stream",
     "text": [
      "Ingrese un numero: 42\n",
      "\n",
      "Los multiplos de  42 son: \n",
      "42   84   126   168   210   252   294   336   378   420   \n"
     ]
    }
   ],
   "source": [
    "# Creamos la función multiplos\n",
    "\n",
    "def multiplos(n):\n",
    "    for i in range(1, 11):\n",
    "        print(n * i, end=\"   \")\n",
    "    print()\n",
    "    \n",
    "# Llamamos a la función con el numero de multiplo deseado\n",
    "\n",
    "m = int(input(\"Ingrese un numero: \"))\n",
    "print(\"\\nLos multiplos de \", m, \"son: \")\n",
    "multiplos(m)"
   ]
  },
  {
   "cell_type": "markdown",
   "id": "c5b42696",
   "metadata": {},
   "source": [
    "### Ejemplo de for anidado : Creación de tablas"
   ]
  },
  {
   "cell_type": "code",
   "execution_count": 50,
   "id": "92a6c6e5",
   "metadata": {},
   "outputs": [
    {
     "name": "stdout",
     "output_type": "stream",
     "text": [
      "0 0 0\n",
      "0 0 1\n",
      "0 1 0\n",
      "0 1 1\n",
      "0 2 0\n",
      "0 2 1\n",
      "0 3 0\n",
      "0 3 1\n",
      "1 0 0\n",
      "1 0 1\n",
      "1 1 0\n",
      "1 1 1\n",
      "1 2 0\n",
      "1 2 1\n",
      "1 3 0\n",
      "1 3 1\n",
      "2 0 0\n",
      "2 0 1\n",
      "2 1 0\n",
      "2 1 1\n",
      "2 2 0\n",
      "2 2 1\n",
      "2 3 0\n",
      "2 3 1\n",
      "3 0 0\n",
      "3 0 1\n",
      "3 1 0\n",
      "3 1 1\n",
      "3 2 0\n",
      "3 2 1\n",
      "3 3 0\n",
      "3 3 1\n"
     ]
    }
   ],
   "source": [
    "for i in range(0,4):\n",
    "    for j in range(0,4):\n",
    "        for k in range(0,2):\n",
    "            print(i,j,k)"
   ]
  },
  {
   "cell_type": "markdown",
   "id": "f2a3b0de",
   "metadata": {},
   "source": [
    "### Hacer un programa que permita hallar la raiz enésima de un numero que se ingresara por teclado :"
   ]
  },
  {
   "cell_type": "code",
   "execution_count": 51,
   "id": "033ee72b",
   "metadata": {},
   "outputs": [
    {
     "name": "stdout",
     "output_type": "stream",
     "text": [
      "Ingrese un número: 14\n",
      "la raiz 2 ésima de 14.0 es 3.7416573867739413\n",
      "la raiz 3 ésima de 14.0 es 2.4101422641752297\n",
      "la raiz 4 ésima de 14.0 es 1.9343364202676694\n",
      "la raiz 5 ésima de 14.0 es 1.6952182030724354\n",
      "la raiz 6 ésima de 14.0 es 1.5524632891554087\n",
      "la raiz 7 ésima de 14.0 es 1.4579162495762834\n",
      "la raiz 8 ésima de 14.0 es 1.390804235062458\n",
      "la raiz 9 ésima de 14.0 es 1.3407492401952805\n",
      "la raiz 10 ésima de 14.0 es 1.3020054543174677\n",
      "la raiz 11 ésima de 14.0 es 1.271140212359713\n",
      "la raiz 12 ésima de 14.0 es 1.2459788477961449\n",
      "la raiz 13 ésima de 14.0 es 1.22507787079274\n",
      "la raiz 14 ésima de 14.0 es 1.2074420274184112\n",
      "la raiz 15 ésima de 14.0 es 1.1923631226024587\n",
      "la raiz 16 ésima de 14.0 es 1.1793236345729947\n",
      "la raiz 17 ésima de 14.0 es 1.1679366751416516\n",
      "la raiz 18 ésima de 14.0 es 1.157907267528484\n",
      "la raiz 19 ésima de 14.0 es 1.1490066128859129\n",
      "la raiz 20 ésima de 14.0 es 1.1410545360838227\n",
      "la raiz 21 ésima de 14.0 es 1.1339072327773512\n",
      "la raiz 22 ésima de 14.0 es 1.1274485408920947\n",
      "la raiz 23 ésima de 14.0 es 1.1215836087529283\n",
      "la raiz 24 ésima de 14.0 es 1.1162342262250091\n",
      "la raiz 25 ésima de 14.0 es 1.1113353309835983\n",
      "la raiz 26 ésima de 14.0 es 1.1068323589382179\n",
      "la raiz 27 ésima de 14.0 es 1.1026792101959935\n",
      "la raiz 28 ésima de 14.0 es 1.0988366700371859\n",
      "la raiz 29 ésima de 14.0 es 1.0952711704795943\n",
      "la raiz 30 ésima de 14.0 es 1.0919538097385157\n",
      "la raiz 31 ésima de 14.0 es 1.0888595690558363\n",
      "la raiz 32 ésima de 14.0 es 1.085966682073163\n",
      "la raiz 33 ésima de 14.0 es 1.0832561231885471\n",
      "la raiz 34 ésima de 14.0 es 1.0807111895144104\n",
      "la raiz 35 ésima de 14.0 es 1.0783171570574193\n",
      "la raiz 36 ésima de 14.0 es 1.0760609961932845\n",
      "la raiz 37 ésima de 14.0 es 1.0739311348434493\n",
      "la raiz 38 ésima de 14.0 es 1.0719172602798748\n",
      "la raiz 39 ésima de 14.0 es 1.0700101524039596\n",
      "la raiz 40 ésima de 14.0 es 1.0682015428203717\n",
      "la raiz 41 ésima de 14.0 es 1.0664839951679956\n",
      "la raiz 42 ésima de 14.0 es 1.0648508030599175\n",
      "la raiz 43 ésima de 14.0 es 1.0632959026825906\n",
      "la raiz 44 ésima de 14.0 es 1.0618137976557351\n",
      "la raiz 45 ésima de 14.0 es 1.0603994941926729\n",
      "la raiz 46 ésima de 14.0 es 1.059048444950904\n",
      "la raiz 47 ésima de 14.0 es 1.057756500244072\n",
      "la raiz 48 ésima de 14.0 es 1.0565198655136632\n",
      "la raiz 49 ésima de 14.0 es 1.055335064143241\n",
      "la raiz 50 ésima de 14.0 es 1.0541989048484153\n",
      "la raiz 51 ésima de 14.0 es 1.0531084529989838\n",
      "la raiz 52 ésima de 14.0 es 1.0520610053310682\n",
      "la raiz 53 ésima de 14.0 es 1.0510540675908437\n",
      "la raiz 54 ésima de 14.0 es 1.0500853347209422\n",
      "la raiz 55 ésima de 14.0 es 1.0491526732584757\n",
      "la raiz 56 ésima de 14.0 es 1.0482541056619745\n",
      "la raiz 57 ésima de 14.0 es 1.0473877963250924\n",
      "la raiz 58 ésima de 14.0 es 1.046552039069054\n",
      "la raiz 59 ésima de 14.0 es 1.045745245934622\n",
      "la raiz 60 ésima de 14.0 es 1.0449659371187732\n",
      "la raiz 61 ésima de 14.0 es 1.0442127319219796\n",
      "la raiz 62 ésima de 14.0 es 1.0434843405896594\n",
      "la raiz 63 ésima de 14.0 es 1.0427795569464362\n",
      "la raiz 64 ésima de 14.0 es 1.0420972517347713\n",
      "la raiz 65 ésima de 14.0 es 1.0414363665806237\n",
      "la raiz 66 ésima de 14.0 es 1.0407959085183547\n",
      "la raiz 67 ésima de 14.0 es 1.0401749450153321\n",
      "la raiz 68 ésima de 14.0 es 1.039572599443834\n",
      "la raiz 69 ésima de 14.0 es 1.0389880469540311\n",
      "la raiz 70 ésima de 14.0 es 1.0384205107072082\n",
      "la raiz 71 ésima de 14.0 es 1.0378692584330727\n",
      "la raiz 72 ésima de 14.0 es 1.0373335992790769\n",
      "la raiz 73 ésima de 14.0 es 1.036812880923267\n",
      "la raiz 74 ésima de 14.0 es 1.0363064869252963\n",
      "la raiz 75 ésima de 14.0 es 1.0358138342929972\n",
      "la raiz 76 ésima de 14.0 es 1.0353343712443217\n",
      "la raiz 77 ésima de 14.0 es 1.034867575146593\n",
      "la raiz 78 ésima de 14.0 es 1.0344129506168993\n",
      "la raiz 79 ésima de 14.0 es 1.0339700277691124\n",
      "la raiz 80 ésima de 14.0 es 1.0335383605945025\n",
      "la raiz 81 ésima de 14.0 es 1.0331175254642162\n",
      "la raiz 82 ésima de 14.0 es 1.0327071197430546\n",
      "la raiz 83 ésima de 14.0 es 1.0323067605050187\n",
      "la raiz 84 ésima de 14.0 es 1.0319160833420116\n",
      "la raiz 85 ésima de 14.0 es 1.0315347412579103\n",
      "la raiz 86 ésima de 14.0 es 1.0311624036409544\n",
      "la raiz 87 ésima de 14.0 es 1.0307987553080562\n",
      "la raiz 88 ésima de 14.0 es 1.0304434956152304\n",
      "la raiz 89 ésima de 14.0 es 1.0300963376288645\n",
      "la raiz 90 ésima de 14.0 es 1.0297570073530322\n",
      "la raiz 91 ésima de 14.0 es 1.0294252430084774\n",
      "la raiz 92 ésima de 14.0 es 1.0291007943592816\n",
      "la raiz 93 ésima de 14.0 es 1.0287834220835774\n",
      "la raiz 94 ésima de 14.0 es 1.0284728971849828\n",
      "la raiz 95 ésima de 14.0 es 1.0281690004417117\n",
      "la raiz 96 ésima de 14.0 es 1.027871521890583\n",
      "la raiz 97 ésima de 14.0 es 1.0275802603433715\n",
      "la raiz 98 ésima de 14.0 es 1.0272950229331597\n",
      "la raiz 99 ésima de 14.0 es 1.027015624688546\n",
      "la raiz 100 ésima de 14.0 es 1.0267418881337291\n"
     ]
    }
   ],
   "source": [
    "numero = float(input(\"Ingrese un número: \"))\n",
    "for n in range(2, 101):\n",
    "    print(\"la raiz {0} ésima de {1} es {2}\".format(n, numero, numero**(1/n)))"
   ]
  },
  {
   "cell_type": "code",
   "execution_count": 54,
   "id": "8c423306",
   "metadata": {},
   "outputs": [
    {
     "name": "stdout",
     "output_type": "stream",
     "text": [
      "Ingrese su nombre: ISmael\n",
      "Nombre Correcto\n",
      "Nombre Correcto\n",
      "Nombre Correcto\n",
      "Nombre Correcto\n",
      "Nombre Correcto\n",
      "Nombre Correcto\n",
      "Ingrese su apellido: Rodriguez\n",
      "Nombre Correcto\n",
      "Nombre Correcto\n",
      "Nombre Correcto\n",
      "Nombre Correcto\n",
      "Nombre Correcto\n",
      "Nombre Correcto\n",
      "Nombre Correcto\n",
      "Nombre Correcto\n",
      "Nombre Correcto\n"
     ]
    }
   ],
   "source": [
    "#Creo la lista de validacion\n",
    "\n",
    "num = ['1','2','3','4','5','6','7','8','9','0']\n",
    "sim = ['?','!','$','%','&','/','ª','º']\n",
    "\n",
    "#funcion\n",
    "def validar(nomap):\n",
    "    for x in nomap:\n",
    "        if x in num:\n",
    "            print('Nombre no valido!!!')\n",
    "        elif x in sim:\n",
    "            print('Nombre no valido!!!')\n",
    "        else:\n",
    "            print('Nombre Correcto')\n",
    "            \n",
    "#ingresar nombre\n",
    "\n",
    "nom = input('Ingrese su nombre: ')\n",
    "\n",
    "#llamar a la funcion\n",
    "\n",
    "validar(nom)\n",
    "\n",
    "#ingresar nombre\n",
    "\n",
    "apell = input('Ingrese su apellido: ')\n",
    "\n",
    "#llamar a la funcion\n",
    "\n",
    "validar(apell)"
   ]
  },
  {
   "cell_type": "code",
   "execution_count": 56,
   "id": "707667ba",
   "metadata": {},
   "outputs": [
    {
     "name": "stdout",
     "output_type": "stream",
     "text": [
      "Ingrese su nombre: Cristian\n",
      "Nombre Correcto\n",
      "Nombre Correcto\n",
      "Nombre Correcto\n",
      "Nombre Correcto\n",
      "Nombre Correcto\n",
      "Nombre Correcto\n",
      "Nombre Correcto\n",
      "Nombre Correcto\n",
      "Ingrese su apellido: Maron\n",
      "Nombre Correcto\n",
      "Nombre Correcto\n",
      "Nombre Correcto\n",
      "Nombre Correcto\n",
      "Nombre Correcto\n"
     ]
    }
   ],
   "source": [
    "#Creo la lista de validacion\n",
    "num = ['1','2','3','4','5','6','7','8','9','0']\n",
    "sim = ['?','!','$','%','&','/','ª','º']\n",
    "\n",
    "#funcion\n",
    "def validar(nomap):\n",
    "    for x in nomap:\n",
    "        if x in num:\n",
    "            print('Nombre no valido!!!')\n",
    "        elif x in sim:\n",
    "            print('Nombre no valido!!!')\n",
    "        else:\n",
    "            print('Nombre Correcto')\n",
    "            \n",
    "#ingresar nombre\n",
    "nom = input('Ingrese su nombre: ')\n",
    "\n",
    "#llamar a la funcion\n",
    "validar(nom)\n",
    "\n",
    "#ingresar nombre\n",
    "apell = input('Ingrese su apellido: ')\n",
    "\n",
    "#llamar a la funcion\n",
    "validar(apell)"
   ]
  },
  {
   "cell_type": "markdown",
   "id": "2113802e",
   "metadata": {},
   "source": [
    "# FIN"
   ]
  }
 ],
 "metadata": {
  "kernelspec": {
   "display_name": "Python 3 (ipykernel)",
   "language": "python",
   "name": "python3"
  },
  "language_info": {
   "codemirror_mode": {
    "name": "ipython",
    "version": 3
   },
   "file_extension": ".py",
   "mimetype": "text/x-python",
   "name": "python",
   "nbconvert_exporter": "python",
   "pygments_lexer": "ipython3",
   "version": "3.8.12"
  }
 },
 "nbformat": 4,
 "nbformat_minor": 5
}
